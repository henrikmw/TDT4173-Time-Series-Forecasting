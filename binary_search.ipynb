{
 "cells": [
  {
   "cell_type": "code",
   "execution_count": 185,
   "id": "1150e823-96b3-4657-be41-da8a28c1b852",
   "metadata": {},
   "outputs": [],
   "source": [
    "def binary_search(numbers, element):\n",
    "    middle_index = int(len(numbers) / 2)\n",
    "    middle_number = numbers[middle_index]\n",
    "    minimum=numbers[0]-1\n",
    "    maximum=numbers[-1]-1\n",
    "\n",
    "\n",
    "    print('numbers', numbers)\n",
    "    print('middle_index', middle_index)\n",
    "    print('min', minimum)\n",
    "    print('max', maximum)\n",
    "    print('middle_number', middle_number)\n",
    "\n",
    "    if element not in numbers:\n",
    "        return -float('inf')\n",
    "\n",
    "    if element < middle_number:\n",
    "        return binary_search(numbers[:middle_index], element)\n",
    "\n",
    "    elif element > middle_number:\n",
    "        return binary_search(numbers[middle_index+1:], element)\n",
    "\n",
    "    elif element == middle_number:\n",
    "        return minimum + middle_index\n"
   ]
  },
  {
   "cell_type": "code",
   "execution_count": 194,
   "id": "006f5bdb-4fad-4412-a03d-bc1b59fe79a7",
   "metadata": {},
   "outputs": [
    {
     "name": "stdout",
     "output_type": "stream",
     "text": [
      "numbers [1, 2, 3, 4, 5, 6, 7, 8, 9, 10]\n",
      "middle_index 5\n",
      "min 0\n",
      "max 9\n",
      "middle_number 6\n",
      "numbers [1, 2, 3, 4, 5]\n",
      "middle_index 2\n",
      "min 0\n",
      "max 4\n",
      "middle_number 3\n",
      "numbers [1, 2]\n",
      "middle_index 1\n",
      "min 0\n",
      "max 1\n",
      "middle_number 2\n",
      "numbers [1]\n",
      "middle_index 0\n",
      "min 0\n",
      "max 0\n",
      "middle_number 1\n",
      "0\n"
     ]
    }
   ],
   "source": [
    "print(binary_search(numbers=[1,2,3,4,5,6,7,8,9,10], element=1))"
   ]
  },
  {
   "cell_type": "code",
   "execution_count": null,
   "id": "08c601d6-a032-4aed-84c3-26750f0db2f9",
   "metadata": {},
   "outputs": [],
   "source": []
  }
 ],
 "metadata": {
  "kernelspec": {
   "display_name": "Python 3 (ipykernel)",
   "language": "python",
   "name": "python3"
  },
  "language_info": {
   "codemirror_mode": {
    "name": "ipython",
    "version": 3
   },
   "file_extension": ".py",
   "mimetype": "text/x-python",
   "name": "python",
   "nbconvert_exporter": "python",
   "pygments_lexer": "ipython3",
   "version": "3.11.5"
  }
 },
 "nbformat": 4,
 "nbformat_minor": 5
}
