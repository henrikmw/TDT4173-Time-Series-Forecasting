{
 "cells": [
  {
   "cell_type": "code",
   "execution_count": 1,
   "id": "9f40b378-29df-49cc-ac49-9116060eac76",
   "metadata": {},
   "outputs": [],
   "source": [
    "import os\n",
    "import pandas as pd\n",
    "import numpy as np\n",
    "\n",
    "pd.set_option('display.max_rows', 200)\n",
    "pd.set_option('display.max_columns', 200)"
   ]
  },
  {
   "cell_type": "code",
   "execution_count": 2,
   "id": "2d0ae621-a401-42d7-ab37-212411c94ef5",
   "metadata": {},
   "outputs": [],
   "source": [
    "starting_directory = '.'"
   ]
  },
  {
   "cell_type": "code",
   "execution_count": 10,
   "id": "d5794180-0698-4740-89ae-cafcdd8fba8a",
   "metadata": {},
   "outputs": [],
   "source": [
    "train_a = pd.read_parquet(f'{starting_directory}/A/train_targets.parquet')\n",
    "train_b = pd.read_parquet(f'{starting_directory}/B/train_targets.parquet')\n",
    "train_c = pd.read_parquet(f'{starting_directory}/C/train_targets.parquet')"
   ]
  },
  {
   "cell_type": "code",
   "execution_count": 21,
   "id": "9fa7f271-2ac7-46e0-994a-4c02faf9288e",
   "metadata": {},
   "outputs": [],
   "source": [
    "X_train_estimated_a = pd.read_parquet(f'{starting_directory}/A/X_train_estimated.parquet')\n",
    "X_train_estimated_b = pd.read_parquet(f'{starting_directory}/B/X_train_estimated.parquet')\n",
    "X_train_estimated_c = pd.read_parquet(f'{starting_directory}/C/X_train_estimated.parquet')\n",
    "\n",
    "X_train_observed_a = pd.read_parquet(f'{starting_directory}/A/X_train_observed.parquet')\n",
    "X_train_observed_b = pd.read_parquet(f'{starting_directory}/B/X_train_observed.parquet')\n",
    "X_train_observed_c = pd.read_parquet(f'{starting_directory}/C/X_train_observed.parquet')\n",
    "\n",
    "X_test_estimated_a = pd.read_parquet(f'{starting_directory}/A/X_test_estimated.parquet')\n",
    "X_test_estimated_b = pd.read_parquet(f'{starting_directory}/B/X_test_estimated.parquet')\n",
    "X_test_estimated_c = pd.read_parquet(f'{starting_directory}/C/X_test_estimated.parquet')"
   ]
  },
  {
   "cell_type": "code",
   "execution_count": 22,
   "id": "c7b72bfc-9439-4da7-9f72-2e8b4c0d2171",
   "metadata": {},
   "outputs": [],
   "source": [
    "def quartersToHours(data):\n",
    "    hourly_data = []\n",
    "    for df in data:    \n",
    "        df[\"year\"] = df['date_forecast'].dt.year\n",
    "        df[\"month\"] = df['date_forecast'].dt.month\n",
    "        df[\"day\"] = df['date_forecast'].dt.day\n",
    "        df[\"hour\"] = df['date_forecast'].dt.hour\n",
    "    \n",
    "        group = df.groupby([df[\"year\"], df[\"month\"], df[\"day\"], df[\"hour\"]])  \n",
    "        result = group.mean()\n",
    "        result = result.reset_index()\n",
    "    \n",
    "        return_df = result.drop(['year', 'month', 'day', 'hour'], axis=1)\n",
    "        \n",
    "        hourly_data.append(return_df)\n",
    "\n",
    "    return hourly_data\n",
    "\n",
    "\n",
    "def appendLabels(train, val, labels):\n",
    "    # Rename columns names to match\n",
    "    val = val.assign(date_forecast=val.date_forecast.dt.round('H'))\n",
    "    train = train.assign(date_forecast=train.date_forecast.dt.round('H'))\n",
    "\n",
    "    labels = labels.rename(columns={'time': 'date_forecast'})\n",
    "    \n",
    "    joined_train = pd.merge(train, labels, how=\"inner\", on=\"date_forecast\")\n",
    "    joined_val = pd.merge(val, labels, how=\"inner\", on=\"date_forecast\")\n",
    "\n",
    "    return [joined_train, joined_val]\n",
    "\n",
    "def appendBuilding(data, label):\n",
    "    new_data = []\n",
    "    for df in data:\n",
    "        df[\"building\"] = label\n",
    "        new_data.append(df)\n",
    "    return new_data\n",
    "\n",
    "def removeColons(data):\n",
    "    new_data = []\n",
    "    for df in data:\n",
    "        df.columns = df.columns.str.replace(':', '')\n",
    "        df.columns = df.columns.str.replace('_', '')\n",
    "        new_data.append(df)\n",
    "    return new_data\n",
    "            "
   ]
  },
  {
   "cell_type": "code",
   "execution_count": 23,
   "id": "0292fc33-7b52-4e9e-94ca-1b9e41ce8187",
   "metadata": {},
   "outputs": [],
   "source": [
    "A = [X_train_observed_a, X_train_estimated_a, X_test_estimated_a]\n",
    "B = [X_train_observed_b, X_train_estimated_b, X_test_estimated_b]\n",
    "C = [X_train_observed_c, X_train_estimated_c, X_test_estimated_c]\n",
    "\n",
    "A = quartersToHours(A)\n",
    "B = quartersToHours(B)\n",
    "C = quartersToHours(C)\n",
    "\n",
    "A[:2] = appendLabels(A[0], A[1], train_a)\n",
    "B[:2] = appendLabels(B[0], B[1], train_b)\n",
    "C[:2] = appendLabels(C[0], C[1], train_c)\n",
    "\n",
    "A = appendBuilding(A, \"A\")\n",
    "B = appendBuilding(B, \"B\")\n",
    "C = appendBuilding(C, \"C\")\n",
    "\n",
    "A = removeColons(A)\n",
    "B = removeColons(B)\n",
    "C = removeColons(C)"
   ]
  },
  {
   "cell_type": "code",
   "execution_count": 24,
   "id": "5db678ab-c02c-4ff0-860b-26dc3e831372",
   "metadata": {},
   "outputs": [],
   "source": [
    "A[0].to_csv(\"csv/X_train_observed_a.csv\", index=False)\n",
    "B[0].to_csv(\"csv/X_train_observed_b.csv\", index=False)\n",
    "C[0].to_csv(\"csv/X_train_observed_c.csv\", index=False)\n",
    "\n",
    "A[1].to_csv(\"csv/X_train_estimated_a.csv\", index=False)\n",
    "B[1].to_csv(\"csv/X_train_estimated_b.csv\", index=False)\n",
    "C[1].to_csv(\"csv/X_train_estimated_c.csv\", index=False)\n",
    "\n",
    "A[2].to_csv(\"csv/X_test_estimated_a.csv\", index=False)\n",
    "B[2].to_csv(\"csv/X_test_estimated_b.csv\", index=False)\n",
    "C[2].to_csv(\"csv/X_test_estimated_c.csv\", index=False)"
   ]
  },
  {
   "cell_type": "code",
   "execution_count": null,
   "id": "30698b4d-4e19-4ee5-93c0-303a93382909",
   "metadata": {},
   "outputs": [],
   "source": []
  }
 ],
 "metadata": {
  "kernelspec": {
   "display_name": "Python 3 (ipykernel)",
   "language": "python",
   "name": "python3"
  },
  "language_info": {
   "codemirror_mode": {
    "name": "ipython",
    "version": 3
   },
   "file_extension": ".py",
   "mimetype": "text/x-python",
   "name": "python",
   "nbconvert_exporter": "python",
   "pygments_lexer": "ipython3",
   "version": "3.11.5"
  }
 },
 "nbformat": 4,
 "nbformat_minor": 5
}
